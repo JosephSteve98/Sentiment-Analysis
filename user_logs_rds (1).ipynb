{
  "nbformat": 4,
  "nbformat_minor": 0,
  "metadata": {
    "colab": {
      "provenance": []
    },
    "kernelspec": {
      "name": "python3",
      "display_name": "Python 3"
    },
    "language_info": {
      "name": "python"
    }
  },
  "cells": [
    {
      "cell_type": "code",
      "execution_count": null,
      "metadata": {
        "id": "EBwY83YkhfK2",
        "colab": {
          "base_uri": "https://localhost:8080/"
        },
        "outputId": "65496d1f-e8d8-483c-e09c-36a154652c1a"
      },
      "outputs": [
        {
          "output_type": "stream",
          "name": "stdout",
          "text": [
            "Requirement already satisfied: mysql-connector-python in /usr/local/lib/python3.11/dist-packages (9.2.0)\n"
          ]
        }
      ],
      "source": [
        "!pip install mysql-connector-python"
      ]
    },
    {
      "cell_type": "code",
      "source": [
        "import mysql.connector"
      ],
      "metadata": {
        "id": "SheB_bWnin2y"
      },
      "execution_count": null,
      "outputs": []
    },
    {
      "cell_type": "code",
      "source": [
        "import mysql.connector\n",
        "\n",
        "# Connection details\n",
        "host = \"database-1.c7oukemqesf4.ap-south-1.rds.amazonaws.com\"\n",
        "user = \"lijodb\"\n",
        "password = \"joeJOE2025\"\n",
        "port = 3306\n",
        "database = \"gradioAppUser\"  # Specify your database name here if applicable\n",
        "\n",
        "# Create connection\n",
        "try:\n",
        "    mydb = mysql.connector.connect(\n",
        "        host=host,\n",
        "        user=user,\n",
        "        password=password,\n",
        "        port=port,\n",
        "        database=database\n",
        "    )\n",
        "    print(\"Connection to RDS instance succeeded!\")\n",
        "except mysql.connector.Error as err:\n",
        "    print(f\"Error: {err}\")\n"
      ],
      "metadata": {
        "id": "Q_3RnOKeiwFT",
        "colab": {
          "base_uri": "https://localhost:8080/"
        },
        "outputId": "e57a86e0-bcd5-403b-a1f1-30fef5a95ebd"
      },
      "execution_count": 12,
      "outputs": [
        {
          "output_type": "stream",
          "name": "stdout",
          "text": [
            "Connection to RDS instance succeeded!\n"
          ]
        }
      ]
    },
    {
      "cell_type": "code",
      "source": [
        "print(mydb)\n",
        "mycursor = mydb.cursor(buffered=True)\n",
        "mycursor.execute(\"Show databases\")\n",
        "for x in mycursor:\n",
        "  print(x)"
      ],
      "metadata": {
        "colab": {
          "base_uri": "https://localhost:8080/"
        },
        "id": "8jWmu6T2lW2W",
        "outputId": "ecdac6b3-6f1e-48ae-a365-47bb239b4e3d"
      },
      "execution_count": 13,
      "outputs": [
        {
          "output_type": "stream",
          "name": "stdout",
          "text": [
            "<mysql.connector.connection.MySQLConnection object at 0x7eab98202c50>\n",
            "('gradioAppUser',)\n",
            "('information_schema',)\n",
            "('mysql',)\n",
            "('performance_schema',)\n",
            "('sys',)\n"
          ]
        }
      ]
    },
    {
      "cell_type": "code",
      "source": [
        "mycursor.execute(\"CREATE DATABASE user_logs\")"
      ],
      "metadata": {
        "id": "_p4m3LV3lbTn"
      },
      "execution_count": 14,
      "outputs": []
    },
    {
      "cell_type": "code",
      "source": [
        "mycursor.execute(\"USE user_logs\")"
      ],
      "metadata": {
        "id": "JzyEp7FglgFg"
      },
      "execution_count": 15,
      "outputs": []
    },
    {
      "cell_type": "code",
      "source": [
        "mycursor.execute(\"\"\"CREATE TABLE APP_USER_LOGS(Id INT AUTO_INCREMENT PRIMARY KEY,\n",
        "                  Text TEXT NOT NULL,\n",
        "                  Predicted_Class INT NOT NULL,\n",
        "                  Negative FLOAT NOT NULL,\n",
        "                  Neutral FLOAT NOT NULL,\n",
        "                  Positive FLOAT NOT NULL,\n",
        "                  Timestamp TIMESTAMP DEFAULT CURRENT_TIMESTAMP)\"\"\")"
      ],
      "metadata": {
        "id": "ZD8e9kA2lytL"
      },
      "execution_count": 16,
      "outputs": []
    },
    {
      "cell_type": "code",
      "source": [
        "mycursor.execute(\"select * FROM APP_USER_LOGS\")\n",
        "out = mycursor.fetchall()\n",
        "from tabulate import tabulate\n",
        "print(tabulate(out,headers = [i[0] for i in mycursor.description], tablefmt = 'psql'))"
      ],
      "metadata": {
        "colab": {
          "base_uri": "https://localhost:8080/"
        },
        "id": "IcwFV8Rhl-FY",
        "outputId": "63771160-3270-48ac-da2e-85d1ec802d2a"
      },
      "execution_count": 19,
      "outputs": [
        {
          "output_type": "stream",
          "name": "stdout",
          "text": [
            "+------+--------+-------------------+------------+-----------+------------+-------------+--------------+\n",
            "| Id   | Text   | Predicted_Class   | Negative   | Neutral   | Positive   | Timestamp   | ip_address   |\n",
            "|------+--------+-------------------+------------+-----------+------------+-------------+--------------|\n",
            "+------+--------+-------------------+------------+-----------+------------+-------------+--------------+\n"
          ]
        }
      ]
    },
    {
      "cell_type": "code",
      "source": [
        "mycursor.execute(\"\"\"\n",
        "ALTER TABLE APP_USER_LOGS\n",
        "ADD COLUMN ip_address VARCHAR(45);\n",
        "\"\"\")"
      ],
      "metadata": {
        "id": "C33dhpsWmB73"
      },
      "execution_count": null,
      "outputs": []
    }
  ]
}